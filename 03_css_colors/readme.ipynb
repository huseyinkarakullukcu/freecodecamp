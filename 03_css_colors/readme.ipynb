{
 "cells": [
  {
   "cell_type": "markdown",
   "metadata": {},
   "source": [
    "**rgb(255,0,0) - rgb(0,255,255)**\n",
    "\n",
    "Kırmızı ve turquaz renklerin yan yana çok parlak olduğuna dikkat edin. Bu kontrast, bir web sitesinde aşırı kullanıldığında dikkat dağıtıcı olabilir ve tamamlayıcı renkli bir arka plan üzerine yerleştirildiğinde metnin okunmasını zorlaştırabilir.\n",
    "\n",
    "**rgb(0,0,0) - rgb(255,0,0)**\n",
    "Siyah ve kırmızı: Gözlerinizin doğal olarak merkezdeki kırmızı renge nasıl çekildiğini fark ettiniz mi? Bir site tasarlarken önemli başlıklara, düğmelere veya bağlantılara dikkat çekmek için bu efekti kullanabilirsiniz.\n",
    "\n",
    "- CSS ile bir öğeye renk uygulamanın çok yaygın bir yolu onaltılık veya onaltılık değerler kullanmaktır. Hex değerleri karmaşık görünse de aslında RGB değerlerinin başka bir biçimidir.\n",
    "\n",
    "- **Hex renk** değerleri # karakteriyle başlar ve 0-9 ve A-F arası altı karakter alır. İlk karakter çifti kırmızıyı, ikinci çift yeşili ve üçüncü çift maviyi temsil eder. Örneğin #4B5320.\n",
    "\n",
    "- .green sınıf seçicisinde, arka plan rengi özelliğini kırmızı için 00, yeşil için FF ve mavi için 00 değerlerine sahip \n",
    "\n",
    "- HSL renk modeli veya renk tonu, doygunluk ve açıklık, renkleri temsil etmenin başka bir yoludur.\n",
    "    - CSS hsl işlevi 3 değeri kabul eder: renk tonu için 0 ile 360 ​​arasında bir sayı, doygunluk için 0 ile 100 arasında bir yüzde ve açıklık için 0 ile 100 arasında bir yüzde.\n",
    "    - Bir renk tekerleği hayal ederseniz, kırmızı renk tonu 0 derece, yeşil renk 120 derece ve mavi renk tonu 240 derecedir.\n",
    "    - Doygunluk, bir rengin saf renk için %0 veya griden %100'e kadar olan yoğunluğudur. Doygunluk ve açıklık değerlerine yüzde işaretini % eklemelisiniz.\n",
    "    - Açıklık, bir rengin ne kadar parlak göründüğüdür; %0 veya tam siyahtan %100 tam beyaza ve %50'si nötrdür.\n",
    "    background-color: hsl(240,100%,50%);\n",
    "\n",
    "- Degrade, bir rengin diğerine geçiş yapmasıdır. CSS doğrusal degrade işlevi, bir çizgi boyunca geçişin yönünü ve hangi renklerin kullanıldığını kontrol etmenizi sağlar.\n",
    "    - background:linear-gradient(gradientDirection,color1, color2, ..)\n",
    "    - degradeDirection, geçiş için kullanılan çizginin yönüdür. renk1 ve renk2, geçişin kendisinde kullanılacak renkler olan renk bağımsız değişkenleridir. Bunlar, renk anahtar kelimeleri, hex, rgb veya hsl dahil olmak üzere herhangi bir renk türü olabilir.\n",
    "    - Gördüğünüz gibi doğrusal gradyan fonksiyonu düzgün bir kırmızı-yeşil gradyan üretti. Doğrusal degrade işlevinin çalışması için en az iki renk bağımsız değişkenine ihtiyaç duyulsa da, birçok renk bağımsız değişkenini kabul edebilir.\n",
    "    - Doğrusal degrade işlevine hiçbir degradeDirection bağımsız değişkeni sağlanmazsa, varsayılan olarak renkleri yukarıdan aşağıya veya 180 derecelik bir çizgi boyunca düzenler.\n",
    "\n",
    "\n",
    "- Box-shadow özelliği, bir öğenin etrafına bir veya daha fazla gölge uygulamanıza olanak tanır.\n",
    "    - hem offsetX hem de offsetY, piksel ve diğer CSS birimlerindeki sayı değerlerini kabul eder pozitif bir offsetX değeri gölgeyi sağa, negatif bir değer ise sola taşır pozitif bir offsetY değeri gölgeyi aşağı doğru hareket ettirir ve negatif bir değer onu yukarı hareket ettirir offsetX ve offsetY'den herhangi biri veya her ikisi için sıfır (0) değeri istiyorsanız, birim eklemenize gerek yoktur. Her tarayıcı sıfırın hiçbir değişiklik olmadığı anlamına geldiğini bilir.\n",
    "\n",
    "    - Gölgenin yüksekliği ve genişliği, uygulandığı öğenin yüksekliği ve genişliğine göre belirlenir. Gölgenin erişim alanını genişletmek için isteğe bağlı bir spreadRadius değeri de kullanabilirsiniz. Daha sonra bunun hakkında daha fazla bilgi vereceğiz.\n",
    "\n",
    "\n",
    "\n",
    "\n"
   ]
  }
 ],
 "metadata": {
  "kernelspec": {
   "display_name": "Python 3",
   "language": "python",
   "name": "python3"
  },
  "language_info": {
   "codemirror_mode": {
    "name": "ipython",
    "version": 3
   },
   "file_extension": ".py",
   "mimetype": "text/x-python",
   "name": "python",
   "nbconvert_exporter": "python",
   "pygments_lexer": "ipython3",
   "version": "3.11.3"
  }
 },
 "nbformat": 4,
 "nbformat_minor": 2
}
